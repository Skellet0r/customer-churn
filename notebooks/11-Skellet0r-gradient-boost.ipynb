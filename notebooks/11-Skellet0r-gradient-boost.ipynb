{
 "cells": [
  {
   "cell_type": "markdown",
   "metadata": {},
   "source": [
    "# Gradient Boosted Random Forest"
   ]
  },
  {
   "cell_type": "markdown",
   "metadata": {},
   "source": [
    "After benchmarking baseline classifiers I found that the best one was a Gradient Boosted Random Forest. We'll focus on that classifier in this notebook and aim to increase it's performance."
   ]
  },
  {
   "cell_type": "code",
   "execution_count": 1,
   "metadata": {
    "ExecuteTime": {
     "end_time": "2020-07-15T22:04:37.064751Z",
     "start_time": "2020-07-15T22:04:36.308344Z"
    }
   },
   "outputs": [],
   "source": [
    "# import libraries\n",
    "from warnings import filterwarnings\n",
    "filterwarnings(\"ignore\")\n",
    "\n",
    "import pandas as pd\n",
    "import numpy as np\n",
    "from scipy import stats\n",
    "\n",
    "import matplotlib.pyplot as plt\n",
    "import seaborn as sns\n",
    "\n",
    "from sklearn.ensemble import GradientBoostingClassifier\n",
    "from sklearn.metrics import plot_roc_curve, roc_auc_score\n",
    "from sklearn.model_selection import (\n",
    "    train_test_split, StratifiedKFold, GridSearchCV,\n",
    "    RandomizedSearchCV, cross_val_score, cross_validate\n",
    ")\n",
    "from sklearn.feature_selection import SelectPercentile\n",
    "\n",
    "from src.seed import SEED\n",
    "from src.helper import confmat, praf1\n",
    "\n",
    "import pickle\n",
    "\n",
    "%matplotlib inline\n",
    "sns.set(font_scale=1.2)"
   ]
  },
  {
   "cell_type": "code",
   "execution_count": 2,
   "metadata": {
    "ExecuteTime": {
     "end_time": "2020-07-15T22:04:37.122916Z",
     "start_time": "2020-07-15T22:04:37.066376Z"
    }
   },
   "outputs": [],
   "source": [
    "# load training data and split it\n",
    "train = pd.read_csv(\"../data/processed/train.csv\")\n",
    "\n",
    "X = train.iloc[:, :-1]\n",
    "y = train.iloc[:, -1]\n",
    "\n",
    "X_train, X_test, y_train, y_test = train_test_split(X, y, random_state=SEED, stratify=y)"
   ]
  },
  {
   "cell_type": "markdown",
   "metadata": {},
   "source": [
    "We'll start off with doing some 10 fold cross validation, to assess our baseline model with no hyper parameter tuning."
   ]
  },
  {
   "cell_type": "code",
   "execution_count": 3,
   "metadata": {
    "ExecuteTime": {
     "end_time": "2020-07-15T22:04:40.250336Z",
     "start_time": "2020-07-15T22:04:37.124927Z"
    }
   },
   "outputs": [
    {
     "name": "stdout",
     "output_type": "stream",
     "text": [
      "Avg. fit_time: 1.160\n",
      "Avg. score_time: 0.017\n",
      "Avg. test_precision: 0.912\n",
      "Avg. test_recall: 0.749\n",
      "Avg. test_accuracy: 0.953\n",
      "Avg. test_f1: 0.820\n",
      "Avg. test_roc_auc: 0.920\n"
     ]
    }
   ],
   "source": [
    "# fit our classifier and get 10 Kfold CV scores\n",
    "baseline = GradientBoostingClassifier(random_state=SEED)\n",
    "\n",
    "skf = StratifiedKFold(n_splits=10, shuffle=True, random_state=SEED)\n",
    "metrics = [\"precision\", \"recall\", \"accuracy\", \"f1\", \"roc_auc\"]\n",
    "cv_results = cross_validate(baseline, X_train, y_train, scoring=metrics, cv=skf, n_jobs=-1)\n",
    "\n",
    "print(*[f\"Avg. {k}: {v.mean():.3f}\" for k, v in cv_results.items()], sep=\"\\n\")"
   ]
  },
  {
   "cell_type": "markdown",
   "metadata": {},
   "source": [
    "Our 10 fold cross validation results are quite optimistic. With an average AUC score of .92, and a average F measure of .82. Our recall is lacking at a average value of 74.9%, although overall we see an average accuracy of 95%.\n",
    "\n",
    "This means our model should have a good measure of separability between TN's and TP's, but in our case we should aim for a higher recall."
   ]
  },
  {
   "cell_type": "markdown",
   "metadata": {},
   "source": [
    "## Feature Selection"
   ]
  },
  {
   "cell_type": "markdown",
   "metadata": {},
   "source": [
    "One step we'll take to improve our model, is to identify if there are models with less features that perform better."
   ]
  },
  {
   "cell_type": "code",
   "execution_count": 4,
   "metadata": {
    "ExecuteTime": {
     "end_time": "2020-07-15T22:08:15.447952Z",
     "start_time": "2020-07-15T22:04:40.251864Z"
    }
   },
   "outputs": [],
   "source": [
    "# find the f1 score for each percentile of features\n",
    "best_performers = []\n",
    "\n",
    "for pct in range(1, 101):\n",
    "    # create clf and selector\n",
    "    clf = GradientBoostingClassifier(random_state=SEED)\n",
    "    selector = SelectPercentile(percentile=pct)\n",
    "    # select `pct` features and perform CV\n",
    "    selection = selector.fit_transform(X_train, y_train)\n",
    "    f1_score = cross_val_score(clf, selection, y_train, scoring=\"f1\", n_jobs=-1, cv=skf)\n",
    "    # if we perform better save the results\n",
    "    if f1_score.mean() > cv_results[\"test_f1\"].mean():\n",
    "        best_performers.append((pct, f1_score.mean()))"
   ]
  },
  {
   "cell_type": "code",
   "execution_count": 5,
   "metadata": {
    "ExecuteTime": {
     "end_time": "2020-07-15T22:08:15.468918Z",
     "start_time": "2020-07-15T22:08:15.449110Z"
    }
   },
   "outputs": [
    {
     "data": {
      "text/html": [
       "<div>\n",
       "<style scoped>\n",
       "    .dataframe tbody tr th:only-of-type {\n",
       "        vertical-align: middle;\n",
       "    }\n",
       "\n",
       "    .dataframe tbody tr th {\n",
       "        vertical-align: top;\n",
       "    }\n",
       "\n",
       "    .dataframe thead th {\n",
       "        text-align: right;\n",
       "    }\n",
       "</style>\n",
       "<table border=\"1\" class=\"dataframe\">\n",
       "  <thead>\n",
       "    <tr style=\"text-align: right;\">\n",
       "      <th></th>\n",
       "      <th>pct</th>\n",
       "      <th>avg_f1</th>\n",
       "    </tr>\n",
       "  </thead>\n",
       "  <tbody>\n",
       "    <tr>\n",
       "      <th>11</th>\n",
       "      <td>61</td>\n",
       "      <td>0.825899</td>\n",
       "    </tr>\n",
       "    <tr>\n",
       "      <th>10</th>\n",
       "      <td>55</td>\n",
       "      <td>0.823743</td>\n",
       "    </tr>\n",
       "    <tr>\n",
       "      <th>1</th>\n",
       "      <td>30</td>\n",
       "      <td>0.823380</td>\n",
       "    </tr>\n",
       "    <tr>\n",
       "      <th>2</th>\n",
       "      <td>31</td>\n",
       "      <td>0.823380</td>\n",
       "    </tr>\n",
       "    <tr>\n",
       "      <th>3</th>\n",
       "      <td>32</td>\n",
       "      <td>0.823380</td>\n",
       "    </tr>\n",
       "  </tbody>\n",
       "</table>\n",
       "</div>"
      ],
      "text/plain": [
       "    pct    avg_f1\n",
       "11   61  0.825899\n",
       "10   55  0.823743\n",
       "1    30  0.823380\n",
       "2    31  0.823380\n",
       "3    32  0.823380"
      ]
     },
     "execution_count": 5,
     "metadata": {},
     "output_type": "execute_result"
    }
   ],
   "source": [
    "# output dataframe sorted best to worst\n",
    "top_perf_df = pd.DataFrame(best_performers, columns=[\"pct\", \"avg_f1\"])\n",
    "top_perf_df.sort_values(\"avg_f1\", ascending=False).head()"
   ]
  },
  {
   "cell_type": "markdown",
   "metadata": {},
   "source": [
    "With less features, we can see a marginal improvement in our average f1 score during 10 fold cross validation. Our future models when doing hyper parameter tuning will use 61% of the features of our original training set."
   ]
  },
  {
   "cell_type": "code",
   "execution_count": 6,
   "metadata": {
    "ExecuteTime": {
     "end_time": "2020-07-15T22:08:15.493738Z",
     "start_time": "2020-07-15T22:08:15.470268Z"
    }
   },
   "outputs": [],
   "source": [
    "# remove features from training and testing\n",
    "selector = SelectPercentile(percentile=61)\n",
    "X_train = selector.fit_transform(X_train, y_train)\n",
    "X_test = selector.transform(X_test)"
   ]
  },
  {
   "cell_type": "markdown",
   "metadata": {},
   "source": [
    "## Hyper Parameter Tuning"
   ]
  },
  {
   "cell_type": "markdown",
   "metadata": {},
   "source": [
    "Now that we've reduced our feature set, we'll look into tuning our classifier's hyper parameters to optimize further. The main things we'll look to modify are our learning rate, number of estimators (trees), and our maximum depth.\n",
    "Doing an exhaustive search does required a large amount of time as the parameter space grows, and additionally cross validation adds 10 fold the amount of models that will be tested."
   ]
  },
  {
   "cell_type": "code",
   "execution_count": 7,
   "metadata": {
    "ExecuteTime": {
     "end_time": "2020-07-15T22:12:10.533521Z",
     "start_time": "2020-07-15T22:08:15.501019Z"
    }
   },
   "outputs": [
    {
     "name": "stdout",
     "output_type": "stream",
     "text": [
      "{'learning_rate': 0.05, 'max_depth': 5, 'n_estimators': 200}\n",
      "0.8413783688304036\n"
     ]
    }
   ],
   "source": [
    "# create parameter grid to search through\n",
    "param_grid = {\n",
    "    \"learning_rate\": [.455, .05, .055],\n",
    "    \"n_estimators\": [200, 400, 600],\n",
    "    \"max_depth\": [3, 4, 5],\n",
    "}\n",
    "\n",
    "search = GridSearchCV(\n",
    "    GradientBoostingClassifier(random_state=SEED),\n",
    "    param_grid,\n",
    "    scoring=\"f1\",\n",
    "    n_jobs=-1,\n",
    "    cv=skf,\n",
    ")\n",
    "search.fit(X_train, y_train)\n",
    "\n",
    "# what was our best score\n",
    "print(search.best_params_)\n",
    "print(search.cv_results_[\"mean_test_score\"].max())"
   ]
  },
  {
   "cell_type": "code",
   "execution_count": 8,
   "metadata": {
    "ExecuteTime": {
     "end_time": "2020-07-15T22:12:16.569120Z",
     "start_time": "2020-07-15T22:12:10.534932Z"
    }
   },
   "outputs": [
    {
     "name": "stdout",
     "output_type": "stream",
     "text": [
      "Avg. fit_time: 3.912\n",
      "Avg. score_time: 0.010\n",
      "Avg. test_precision: 0.929\n",
      "Avg. test_recall: 0.771\n",
      "Avg. test_accuracy: 0.958\n",
      "Avg. test_f1: 0.841\n",
      "Avg. test_roc_auc: 0.917\n"
     ]
    }
   ],
   "source": [
    "# output cv metrics for best model\n",
    "s_cv_results = cross_validate(\n",
    "    GradientBoostingClassifier(random_state=SEED, **search.best_params_),\n",
    "    X_train,\n",
    "    y_train,\n",
    "    scoring=metrics,\n",
    "    cv=skf,\n",
    "    n_jobs=-1,\n",
    ")\n",
    "\n",
    "print(*[f\"Avg. {k}: {v.mean():.3f}\" for k, v in s_cv_results.items()], sep=\"\\n\")"
   ]
  },
  {
   "cell_type": "markdown",
   "metadata": {},
   "source": [
    "We can see from CV results on training data, our accuracy, recall, and precision have all gone up. We do still want to increase our recall, so that we are not missing as many customers who will soon be leave."
   ]
  },
  {
   "cell_type": "markdown",
   "metadata": {},
   "source": [
    "## Testing Data"
   ]
  },
  {
   "cell_type": "code",
   "execution_count": 9,
   "metadata": {
    "ExecuteTime": {
     "end_time": "2020-07-15T22:12:16.630294Z",
     "start_time": "2020-07-15T22:12:16.570941Z"
    }
   },
   "outputs": [],
   "source": [
    "# import testing data\n",
    "test = pd.read_csv(\"../data/processed/test.csv\")\n",
    "\n",
    "t_X = test.iloc[:, :-1]\n",
    "t_y = test.iloc[:, -1]\n",
    "\n",
    "t_X = selector.transform(t_X)"
   ]
  },
  {
   "cell_type": "code",
   "execution_count": 10,
   "metadata": {
    "ExecuteTime": {
     "end_time": "2020-07-15T22:12:16.682425Z",
     "start_time": "2020-07-15T22:12:16.632565Z"
    }
   },
   "outputs": [
    {
     "data": {
      "text/html": [
       "<div>\n",
       "<style scoped>\n",
       "    .dataframe tbody tr th:only-of-type {\n",
       "        vertical-align: middle;\n",
       "    }\n",
       "\n",
       "    .dataframe tbody tr th {\n",
       "        vertical-align: top;\n",
       "    }\n",
       "\n",
       "    .dataframe thead th {\n",
       "        text-align: right;\n",
       "    }\n",
       "</style>\n",
       "<table border=\"1\" class=\"dataframe\">\n",
       "  <thead>\n",
       "    <tr style=\"text-align: right;\">\n",
       "      <th></th>\n",
       "      <th>precision</th>\n",
       "      <th>recall</th>\n",
       "      <th>accuracy</th>\n",
       "      <th>f1</th>\n",
       "    </tr>\n",
       "  </thead>\n",
       "  <tbody>\n",
       "    <tr>\n",
       "      <th>Testing</th>\n",
       "      <td>0.848101</td>\n",
       "      <td>0.736264</td>\n",
       "      <td>0.942400</td>\n",
       "      <td>0.788235</td>\n",
       "    </tr>\n",
       "    <tr>\n",
       "      <th>Final Testing</th>\n",
       "      <td>0.877193</td>\n",
       "      <td>0.826446</td>\n",
       "      <td>0.958034</td>\n",
       "      <td>0.851064</td>\n",
       "    </tr>\n",
       "  </tbody>\n",
       "</table>\n",
       "</div>"
      ],
      "text/plain": [
       "               precision    recall  accuracy        f1\n",
       "Testing         0.848101  0.736264  0.942400  0.788235\n",
       "Final Testing   0.877193  0.826446  0.958034  0.851064"
      ]
     },
     "execution_count": 10,
     "metadata": {},
     "output_type": "execute_result"
    }
   ],
   "source": [
    "# using our fitted model, what is our performance\n",
    "test_pred = search.predict(X_test)\n",
    "pred = search.predict(t_X)\n",
    "a = praf1(y_test, test_pred, \"Testing\")\n",
    "b = praf1(t_y, pred, \"Final Testing\")\n",
    "pd.concat([a, b])"
   ]
  },
  {
   "cell_type": "code",
   "execution_count": 11,
   "metadata": {
    "ExecuteTime": {
     "end_time": "2020-07-15T22:12:17.204660Z",
     "start_time": "2020-07-15T22:12:16.684058Z"
    }
   },
   "outputs": [
    {
     "data": {
      "image/png": "[encoded data removed]",
      "text/plain": [
       "<Figure size 1152x432 with 4 Axes>"
      ]
     },
     "metadata": {},
     "output_type": "display_data"
    }
   ],
   "source": [
    "# output confusion matrix\n",
    "confmat([y_test, t_y], [test_pred, pred], [\"Testing\", \"Final Testing\"])"
   ]
  },
  {
   "cell_type": "code",
   "execution_count": 12,
   "metadata": {
    "ExecuteTime": {
     "end_time": "2020-07-15T22:12:17.442221Z",
     "start_time": "2020-07-15T22:12:17.205983Z"
    }
   },
   "outputs": [
    {
     "data": {
      "image/png": "[encoded data removed]",
      "text/plain": [
       "<Figure size 1008x576 with 1 Axes>"
      ]
     },
     "metadata": {},
     "output_type": "display_data"
    }
   ],
   "source": [
    "# output roc_auc curve\n",
    "fig, ax = plt.subplots(figsize=(14, 8))\n",
    "\n",
    "plot_roc_curve(search, X_test, y_test, name=\"Testing\", ax=ax)\n",
    "plot_roc_curve(search, t_X, t_y, name=\"Final Testing\", ax=ax)\n",
    "\n",
    "line = np.linspace(0, 1)\n",
    "plt.plot(line, line, \"--\")\n",
    "\n",
    "plt.title(\"Testing ROC/AUC Scores\")\n",
    "plt.show()"
   ]
  },
  {
   "cell_type": "markdown",
   "metadata": {},
   "source": [
    "From our final testing, we see our classifier performs consistently meaning we have not over fitted our model to our training data. Looking at our scores, we do have a relatively low recall, however with an accuracy of 95%, and high f1_score it is negligible. We'll next look into doing an XGBoosted classifier on our data and identify if there are any benefits."
   ]
  },
  {
   "cell_type": "code",
   "execution_count": 13,
   "metadata": {
    "ExecuteTime": {
     "end_time": "2020-07-15T22:12:17.451567Z",
     "start_time": "2020-07-15T22:12:17.443524Z"
    }
   },
   "outputs": [],
   "source": [
    "# store our classifier and our feature selector\n",
    "with open(\"storage/gb-clf.pickle\", \"wb\") as f:\n",
    "    pickle.dump(search.best_estimator_, f)\n",
    "with open(\"storage/feat-select.pickle\", \"wb\") as f:\n",
    "    pickle.dump(selector, f)"
   ]
  }
 ],
 "metadata": {
  "kernelspec": {
   "display_name": "Python 3",
   "language": "python",
   "name": "python3"
  },
  "language_info": {
   "codemirror_mode": {
    "name": "ipython",
    "version": 3
   },
   "file_extension": ".py",
   "mimetype": "text/x-python",
   "name": "python",
   "nbconvert_exporter": "python",
   "pygments_lexer": "ipython3",
   "version": "3.8.3"
  },
  "toc": {
   "base_numbering": 1,
   "nav_menu": {},
   "number_sections": true,
   "sideBar": true,
   "skip_h1_title": false,
   "title_cell": "Table of Contents",
   "title_sidebar": "Contents",
   "toc_cell": false,
   "toc_position": {},
   "toc_section_display": true,
   "toc_window_display": false
  }
 },
 "nbformat": 4,
 "nbformat_minor": 4
}
